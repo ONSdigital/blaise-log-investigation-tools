{
 "cells": [
  {
   "cell_type": "markdown",
   "metadata": {},
   "source": [
    "# Examples\n",
    "This notebook contains a few examples on how to query the logs and process the results."
   ]
  },
  {
   "cell_type": "markdown",
   "metadata": {},
   "source": [
    "## Import the required libraries\n",
    "For the examples we use the `google-cloud-logging` library to fetch the logs and `pandas` to process the results. However,\n",
    "you are free to use any Python code/libraries to work with the fetched data."
   ]
  },
  {
   "cell_type": "code",
   "execution_count": 2,
   "metadata": {
    "ExecuteTime": {
     "end_time": "2023-05-11T10:05:48.915699Z",
     "start_time": "2023-05-11T10:05:45.358416Z"
    }
   },
   "outputs": [],
   "source": [
    "import google.auth\n",
    "import google.cloud.logging as gcl\n",
    "import pandas as pd\n",
    "import matplotlib.pyplot as plt"
   ]
  },
  {
   "cell_type": "markdown",
   "metadata": {},
   "source": [
    "## Create a client\n",
    "\n",
    "**IMPORTANT:** You must have run `gcloud auth application-default login` to authenticate and `gcloud config set project <project-id>` before starting jupyter notebook."
   ]
  },
  {
   "cell_type": "code",
   "execution_count": 3,
   "metadata": {
    "ExecuteTime": {
     "end_time": "2023-05-11T10:05:50.748447Z",
     "start_time": "2023-05-11T10:05:50.042625Z"
    }
   },
   "outputs": [],
   "source": [
    "gcp_credentials, project = google.auth.default()\n",
    "logs = gcl.Client(credentials=gcp_credentials, project=project)"
   ]
  },
  {
   "cell_type": "markdown",
   "metadata": {},
   "source": [
    "## Query the logs\n",
    "\n",
    "`page_size` is set to a high number here to reduce the number of request made to the API. Too many requests can result in a `ResourceExhausted 429` error."
   ]
  },
  {
   "cell_type": "code",
   "execution_count": 17,
   "metadata": {
    "ExecuteTime": {
     "end_time": "2023-05-11T10:07:50.000883Z",
     "start_time": "2023-05-11T10:07:47.973316Z"
    }
   },
   "outputs": [],
   "source": [
    "log_filter = (\n",
    "    \"\"\"\n",
    "    severity>=WARNING AND timestamp>=\"2023-05-11T00:00:00Z\"\n",
    "    \"\"\"\n",
    ")\n",
    "results = logs.list_entries(filter_=log_filter, page_size=1000)"
   ]
  },
  {
   "cell_type": "markdown",
   "metadata": {},
   "source": [
    "Use plain Python to convert the results (which come in the form of `StructEntry` objects) to a list of key value pairs."
   ]
  },
  {
   "cell_type": "code",
   "execution_count": 18,
   "metadata": {
    "ExecuteTime": {
     "end_time": "2023-05-11T10:07:59.882080Z",
     "start_time": "2023-05-11T10:07:50.864402Z"
    }
   },
   "outputs": [],
   "source": [
    "entries = [\n",
    "    dict(\n",
    "        severity=result.severity,\n",
    "        timestamp=result.timestamp,\n",
    "        resource_type=result.resource.type,\n",
    "    )\n",
    "    for result in results\n",
    "]"
   ]
  },
  {
   "cell_type": "markdown",
   "metadata": {},
   "source": [
    "## Use Pandas to process the results\n",
    "First put the results in a `DataFrame`"
   ]
  },
  {
   "cell_type": "code",
   "execution_count": 20,
   "metadata": {
    "ExecuteTime": {
     "end_time": "2023-05-11T10:08:02.962689Z",
     "start_time": "2023-05-11T10:08:02.960787Z"
    }
   },
   "outputs": [],
   "source": [
    "entries_df = pd.DataFrame(entries)\n"
   ]
  },
  {
   "cell_type": "code",
   "execution_count": 50,
   "metadata": {
    "ExecuteTime": {
     "end_time": "2023-05-11T10:14:01.547016Z",
     "start_time": "2023-05-11T10:14:01.542986Z"
    }
   },
   "outputs": [
    {
     "data": {
      "text/html": [
       "<div>\n",
       "<style scoped>\n",
       "    .dataframe tbody tr th:only-of-type {\n",
       "        vertical-align: middle;\n",
       "    }\n",
       "\n",
       "    .dataframe tbody tr th {\n",
       "        vertical-align: top;\n",
       "    }\n",
       "\n",
       "    .dataframe thead th {\n",
       "        text-align: right;\n",
       "    }\n",
       "</style>\n",
       "<table border=\"1\" class=\"dataframe\">\n",
       "  <thead>\n",
       "    <tr style=\"text-align: right;\">\n",
       "      <th></th>\n",
       "      <th>severity</th>\n",
       "      <th>timestamp</th>\n",
       "      <th>resource_type</th>\n",
       "    </tr>\n",
       "  </thead>\n",
       "  <tbody>\n",
       "    <tr>\n",
       "      <th>0</th>\n",
       "      <td>WARNING</td>\n",
       "      <td>2023-05-11 00:00:57.145344+00:00</td>\n",
       "      <td>http_load_balancer</td>\n",
       "    </tr>\n",
       "    <tr>\n",
       "      <th>1</th>\n",
       "      <td>WARNING</td>\n",
       "      <td>2023-05-11 00:01:48.716034+00:00</td>\n",
       "      <td>http_load_balancer</td>\n",
       "    </tr>\n",
       "    <tr>\n",
       "      <th>2</th>\n",
       "      <td>WARNING</td>\n",
       "      <td>2023-05-11 00:01:48.890428+00:00</td>\n",
       "      <td>http_load_balancer</td>\n",
       "    </tr>\n",
       "    <tr>\n",
       "      <th>3</th>\n",
       "      <td>WARNING</td>\n",
       "      <td>2023-05-11 00:02:26.944184+00:00</td>\n",
       "      <td>http_load_balancer</td>\n",
       "    </tr>\n",
       "    <tr>\n",
       "      <th>4</th>\n",
       "      <td>WARNING</td>\n",
       "      <td>2023-05-11 00:03:34.590030+00:00</td>\n",
       "      <td>http_load_balancer</td>\n",
       "    </tr>\n",
       "    <tr>\n",
       "      <th>...</th>\n",
       "      <td>...</td>\n",
       "      <td>...</td>\n",
       "      <td>...</td>\n",
       "    </tr>\n",
       "    <tr>\n",
       "      <th>5391</th>\n",
       "      <td>ERROR</td>\n",
       "      <td>2023-05-11 10:07:08+00:00</td>\n",
       "      <td>gce_instance</td>\n",
       "    </tr>\n",
       "    <tr>\n",
       "      <th>5392</th>\n",
       "      <td>ERROR</td>\n",
       "      <td>2023-05-11 10:07:13+00:00</td>\n",
       "      <td>gce_instance</td>\n",
       "    </tr>\n",
       "    <tr>\n",
       "      <th>5393</th>\n",
       "      <td>ERROR</td>\n",
       "      <td>2023-05-11 10:07:22+00:00</td>\n",
       "      <td>gce_instance</td>\n",
       "    </tr>\n",
       "    <tr>\n",
       "      <th>5394</th>\n",
       "      <td>ERROR</td>\n",
       "      <td>2023-05-11 10:07:28+00:00</td>\n",
       "      <td>gce_instance</td>\n",
       "    </tr>\n",
       "    <tr>\n",
       "      <th>5395</th>\n",
       "      <td>ERROR</td>\n",
       "      <td>2023-05-11 10:07:34+00:00</td>\n",
       "      <td>gce_instance</td>\n",
       "    </tr>\n",
       "  </tbody>\n",
       "</table>\n",
       "<p>5396 rows × 3 columns</p>\n",
       "</div>"
      ],
      "text/plain": [
       "     severity                        timestamp       resource_type\n",
       "0     WARNING 2023-05-11 00:00:57.145344+00:00  http_load_balancer\n",
       "1     WARNING 2023-05-11 00:01:48.716034+00:00  http_load_balancer\n",
       "2     WARNING 2023-05-11 00:01:48.890428+00:00  http_load_balancer\n",
       "3     WARNING 2023-05-11 00:02:26.944184+00:00  http_load_balancer\n",
       "4     WARNING 2023-05-11 00:03:34.590030+00:00  http_load_balancer\n",
       "...       ...                              ...                 ...\n",
       "5391    ERROR        2023-05-11 10:07:08+00:00        gce_instance\n",
       "5392    ERROR        2023-05-11 10:07:13+00:00        gce_instance\n",
       "5393    ERROR        2023-05-11 10:07:22+00:00        gce_instance\n",
       "5394    ERROR        2023-05-11 10:07:28+00:00        gce_instance\n",
       "5395    ERROR        2023-05-11 10:07:34+00:00        gce_instance\n",
       "\n",
       "[5396 rows x 3 columns]"
      ]
     },
     "execution_count": 50,
     "metadata": {},
     "output_type": "execute_result"
    }
   ],
   "source": [
    "entries_df"
   ]
  },
  {
   "cell_type": "markdown",
   "metadata": {},
   "source": [
    "Then use [Pandas functionality](https://pandas.pydata.org/docs/) to extract data. Here we get the number of errors and warnings generated by each resource type."
   ]
  },
  {
   "cell_type": "code",
   "execution_count": 44,
   "metadata": {
    "ExecuteTime": {
     "end_time": "2023-05-11T10:12:19.605102Z",
     "start_time": "2023-05-11T10:12:19.600424Z"
    }
   },
   "outputs": [],
   "source": [
    "count_by_resource_type = entries_df \\\n",
    "    .groupby([\"resource_type\"])['resource_type'] \\\n",
    "    .count() \\\n",
    "    .rename(\"count\") \\\n",
    "    .to_frame()\n"
   ]
  },
  {
   "cell_type": "code",
   "execution_count": 49,
   "metadata": {
    "ExecuteTime": {
     "end_time": "2023-05-11T10:13:50.235846Z",
     "start_time": "2023-05-11T10:13:50.230705Z"
    }
   },
   "outputs": [
    {
     "data": {
      "text/html": [
       "<div>\n",
       "<style scoped>\n",
       "    .dataframe tbody tr th:only-of-type {\n",
       "        vertical-align: middle;\n",
       "    }\n",
       "\n",
       "    .dataframe tbody tr th {\n",
       "        vertical-align: top;\n",
       "    }\n",
       "\n",
       "    .dataframe thead th {\n",
       "        text-align: right;\n",
       "    }\n",
       "</style>\n",
       "<table border=\"1\" class=\"dataframe\">\n",
       "  <thead>\n",
       "    <tr style=\"text-align: right;\">\n",
       "      <th></th>\n",
       "      <th>count</th>\n",
       "    </tr>\n",
       "    <tr>\n",
       "      <th>resource_type</th>\n",
       "      <th></th>\n",
       "    </tr>\n",
       "  </thead>\n",
       "  <tbody>\n",
       "    <tr>\n",
       "      <th>cloud_function</th>\n",
       "      <td>1551</td>\n",
       "    </tr>\n",
       "    <tr>\n",
       "      <th>cloud_run_revision</th>\n",
       "      <td>7</td>\n",
       "    </tr>\n",
       "    <tr>\n",
       "      <th>gae_app</th>\n",
       "      <td>3</td>\n",
       "    </tr>\n",
       "    <tr>\n",
       "      <th>gce_backend_service</th>\n",
       "      <td>246</td>\n",
       "    </tr>\n",
       "    <tr>\n",
       "      <th>gce_instance</th>\n",
       "      <td>626</td>\n",
       "    </tr>\n",
       "    <tr>\n",
       "      <th>http_load_balancer</th>\n",
       "      <td>2963</td>\n",
       "    </tr>\n",
       "  </tbody>\n",
       "</table>\n",
       "</div>"
      ],
      "text/plain": [
       "                     count\n",
       "resource_type             \n",
       "cloud_function        1551\n",
       "cloud_run_revision       7\n",
       "gae_app                  3\n",
       "gce_backend_service    246\n",
       "gce_instance           626\n",
       "http_load_balancer    2963"
      ]
     },
     "execution_count": 49,
     "metadata": {},
     "output_type": "execute_result"
    }
   ],
   "source": [
    "count_by_resource_type"
   ]
  },
  {
   "cell_type": "markdown",
   "metadata": {},
   "source": [
    "## Plot the results\n",
    "You can even display a pretty chart of the results."
   ]
  },
  {
   "cell_type": "code",
   "execution_count": 48,
   "metadata": {
    "ExecuteTime": {
     "end_time": "2023-05-11T10:13:06.504760Z",
     "start_time": "2023-05-11T10:13:06.439250Z"
    }
   },
   "outputs": [
    {
     "data": {
      "image/png": "[encoded data removed]",
      "text/plain": [
       "<Figure size 640x480 with 1 Axes>"
      ]
     },
     "metadata": {},
     "output_type": "display_data"
    }
   ],
   "source": [
    "count_by_resource_type.plot(kind='barh')\n",
    "plt.show()\n"
   ]
  }
 ],
 "metadata": {
  "kernelspec": {
   "display_name": "Python 3 (ipykernel)",
   "language": "python",
   "name": "python3"
  },
  "language_info": {
   "codemirror_mode": {
    "name": "ipython",
    "version": 3
   },
   "file_extension": ".py",
   "mimetype": "text/x-python",
   "name": "python",
   "nbconvert_exporter": "python",
   "pygments_lexer": "ipython3",
   "version": "3.9.13"
  }
 },
 "nbformat": 4,
 "nbformat_minor": 1
}
